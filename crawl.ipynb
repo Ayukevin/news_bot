{
 "cells": [
  {
   "cell_type": "code",
   "execution_count": null,
   "id": "f71ea55e",
   "metadata": {},
   "outputs": [],
   "source": [
    "from selenium import webdriver\n",
    "from selenium.webdriver.chrome.service import Service as ChromeService\n",
    "from webdriver_manager.chrome import ChromeDriverManager\n",
    "from selenium.webdriver.common.by import By\n",
    "from selenium.webdriver.chrome.options import Options"
   ]
  },
  {
   "cell_type": "code",
   "execution_count": 2,
   "id": "4385f640",
   "metadata": {},
   "outputs": [],
   "source": [
    "url = \"https://www.blocktempo.com/category/business/finance-market/\"\n",
    "service = ChromeService(ChromeDriverManager().install())\n",
    "\n",
    "#禁止彈跳視窗\n",
    "chrome_option = Options()\n",
    "chrome_option.add_experimental_option(\"prefs\", {\n",
    "    \"profile.default_content_setting_values.notifications\": 2\n",
    "})\n",
    "chrome_option.add_argument(\"disable-blink-features=AutomationControlled\")\n",
    "chrome_option.add_experimental_option(\"excludeSwitches\", [\"enable-automation\"])\n",
    "chrome_option.add_experimental_option('useAutomationExtension', False)\n",
    "chrome_option.add_argument(\"user-agent=Mozilla/5.0 (Windows NT 10.0; Win64; x64) AppleWebKit/537.36 (KHTML, like Gecko) Chrome/123.0.0.0 Safari/537.36\")\n",
    "\n",
    "\n",
    "#browser 打開 url\n",
    "driver = webdriver.Chrome(service = service, options=chrome_option)\n",
    "driver.get(url)"
   ]
  },
  {
   "cell_type": "code",
   "execution_count": 3,
   "id": "3d02282a",
   "metadata": {},
   "outputs": [
    {
     "name": "stdout",
     "output_type": "stream",
     "text": [
      "page 1 done\n",
      "https://www.blocktempo.com/cpic-estable-mmfs-100m-launch-on-hashkeychain/\n",
      "page 2 done\n",
      "https://www.blocktempo.com/blackrock-adds-its-bitcoin-etf-to-model-portfolio/\n",
      "page 3 done\n",
      "https://www.blocktempo.com/china-guides-insurers-to-invest-more-in-stocks/\n",
      "page 4 done\n",
      "https://www.blocktempo.com/michael-saylor-press-amazon-to-buy-bitcoin/\n",
      "page 5 done\n",
      "https://www.blocktempo.com/nvidia-revenue-nearly-doubles/\n"
     ]
    }
   ],
   "source": [
    "results = []\n",
    "pages =5\n",
    "\n",
    "for page in range(1,pages+1):\n",
    "    url = \"https://www.blocktempo.com/category/business/finance-market/\" + f\"page/{page}/\"\n",
    "    driver.get(url)\n",
    "    # 等待文章載入\n",
    "    driver.implicitly_wait(10)\n",
    "    # 先抓所有文章的 article 元素\n",
    "    articles = driver.find_elements(By.XPATH, \"/html/body/div[2]/div[5]/div/div[1]/div[2]/div/div[4]/div[1]/div/div[2]/div/div[1]/div[1]/article\")\n",
    "\n",
    "    for article in articles:\n",
    "        try:\n",
    "            # 標題與連結\n",
    "            a_tag = article.find_element(By.XPATH, \".//h3[@class='jeg_post_title']/a\")\n",
    "            title = a_tag.text\n",
    "            url = a_tag.get_attribute(\"href\")\n",
    "            # 時間\n",
    "            try:\n",
    "                time = article.find_element(By.XPATH, \".//div[contains(@class, 'jeg_meta_date')]\").text\n",
    "            except:\n",
    "                time = \"\"\n",
    "            # 標籤\n",
    "            try:\n",
    "                labels = article.find_element(By.XPATH, \".//div[contains(@class, 'jeg_post_category')]\").text\n",
    "            except:\n",
    "                labels = \"\"\n",
    "            result = {\n",
    "                'title': title,\n",
    "                'url': url,\n",
    "                'labels': labels,\n",
    "                'time': time\n",
    "            }\n",
    "            results.append(result)\n",
    "        except Exception as e:\n",
    "            print(f\"error: {e}\")\n",
    "    print(f\"page {page} done\")\n",
    "    print(url)"
   ]
  },
  {
   "cell_type": "code",
   "execution_count": 4,
   "id": "ef3a3ff5",
   "metadata": {},
   "outputs": [
    {
     "data": {
      "text/plain": [
       "150"
      ]
     },
     "execution_count": 4,
     "metadata": {},
     "output_type": "execute_result"
    }
   ],
   "source": [
    "len(results)"
   ]
  },
  {
   "cell_type": "code",
   "execution_count": 5,
   "id": "9a63200e",
   "metadata": {},
   "outputs": [],
   "source": [
    "import pandas as pd\n",
    "import csv\n",
    "# 將資料轉換為 DataFrame\n",
    "df = pd.DataFrame(results)\n",
    "df.to_csv('news_raw.csv.csv', index=False, encoding='utf-8-sig')"
   ]
  }
 ],
 "metadata": {
  "kernelspec": {
   "display_name": "Python 3",
   "language": "python",
   "name": "python3"
  },
  "language_info": {
   "codemirror_mode": {
    "name": "ipython",
    "version": 3
   },
   "file_extension": ".py",
   "mimetype": "text/x-python",
   "name": "python",
   "nbconvert_exporter": "python",
   "pygments_lexer": "ipython3",
   "version": "3.13.2"
  }
 },
 "nbformat": 4,
 "nbformat_minor": 5
}
